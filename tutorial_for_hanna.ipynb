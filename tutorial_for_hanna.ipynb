{
 "cells": [
  {
   "cell_type": "markdown",
   "id": "e6ec7ae7-81ff-4a28-8bf4-654c23a24a33",
   "metadata": {
    "jp-MarkdownHeadingCollapsed": true,
    "tags": []
   },
   "source": [
    "# Installation"
   ]
  },
  {
   "cell_type": "markdown",
   "id": "77b135a5-9fbb-41fd-8d3f-8a22be5d8adf",
   "metadata": {},
   "source": [
    "First, let's install the dependencies:\n",
    "\n",
    "I'd reccomend using conda. You might also want to create a new conda environment for this (ie `conda create --name pastis2d python=3.9`... `conda activate pastis2d`)"
   ]
  },
  {
   "cell_type": "code",
   "execution_count": null,
   "id": "6c10668b-8fe6-4206-bc0c-1bb64f960fe5",
   "metadata": {},
   "outputs": [],
   "source": [
    "%%bash\n",
    "\n",
    "conda install numpy scipy scikit-learn pandas autograd cython\n",
    "pip install iced"
   ]
  },
  {
   "cell_type": "markdown",
   "id": "d24b2769-6495-43f5-837b-985a5263ba5b",
   "metadata": {},
   "source": [
    "I suggest you fork (rather than directly clone) [my PASTIS repository](https://github.com/gesinecauer/pastis) so you can easily make your own edits.\n",
    "\n",
    "After `cd`-ing to your new repo, run this to switch to the `pastis_2d` branch and install PASTIS:"
   ]
  },
  {
   "cell_type": "code",
   "execution_count": null,
   "id": "1a7cb289-8be0-4486-a75c-4dc99c207e6b",
   "metadata": {},
   "outputs": [],
   "source": [
    "%%bash\n",
    "\n",
    "git checkout pastis_2d\n",
    "\n",
    "module load gcc/8.2.0 gmp/6.1.2 mpfr/4.0.1 mpfr/4.0.1  # Just in case\n",
    "\n",
    "make cython  # May or may not need to do this\n",
    "python setup.py develop"
   ]
  },
  {
   "cell_type": "markdown",
   "id": "a4571aca-84cb-4ae5-88cc-6910000e338e",
   "metadata": {},
   "source": [
    "If you run into any issuse with installation, please let me know! I am happy to help troubleshoot, and it would be useful for me to know what kinds of issues people might run into with this."
   ]
  },
  {
   "cell_type": "markdown",
   "id": "72181aab-045e-411e-87e9-428753efd7fc",
   "metadata": {
    "jp-MarkdownHeadingCollapsed": true,
    "tags": []
   },
   "source": [
    "# Simulating data"
   ]
  },
  {
   "cell_type": "markdown",
   "id": "6dc2162b-a49b-4623-8c9a-069b894a10d9",
   "metadata": {
    "tags": []
   },
   "source": [
    "### How my simulation works"
   ]
  },
  {
   "attachments": {
    "6c1ec9ed-9c3a-46f5-b2df-09324530500e.png": {
     "image/png": "[encoded data removed]"
    }
   },
   "cell_type": "markdown",
   "id": "7a0ad8c2-6676-42e9-b300-2ce80546040d",
   "metadata": {
    "tags": []
   },
   "source": [
    "(I wasn't totally sure what kind of simulation would be best for you, so I just kind of made a ton of assumptions... hope the end result is helpful!)\n",
    "\n",
    "#### Step 1: make 2D structure of non-overlapping beads\n",
    "\n",
    "I set this up so that all beads must fall within a circle of a given radius. I chose a circle shape rather than a square because the beads that fall near the corners of a square are going to be a lot harder to infer than the other beads.\n",
    "\n",
    "I also decided to prevent excessive overlap of the beads (though you can turn this feature off by setting `overlap_dist=0`). \n",
    "\n",
    "The 2D structure is created by the following process:\n",
    "\n",
    "1. First, new beads are placed within the circle according to a uniform distribution.\n",
    "2. Second, any beads that cause overlap are removed. \n",
    "\n",
    "These two steps are repeated until the designated number of beads have been simulated.\n",
    "\n",
    "Here's an example of what the structure will look like:\n",
    "\n",
    "![ex_2d_simulation.png](attachment:6c1ec9ed-9c3a-46f5-b2df-09324530500e.png)\n",
    "\n",
    "#### Step 2: derive a counts matrix from the structure\n",
    "\n",
    "**Important note:** the counts matrix is created from the 2D structure via the [same Poisson model used during inference](#how_pastis_works). This means that the simulated data is most suitable for comparing among inference approaches which are all based on the PASTIS Poisson model. If you want to generate counts via a different approach, you can modify the `pastis.simulation.spatial_rnaseq.get_counts` function.\n",
    "\n",
    "Counts are derived as follows:\n",
    "\n",
    "1. The simulated structure's distances ($d_{ij}$) are converted to an intermediate value ($\\lambda_{ij}$) using the inputted counts-to-distance conversion factor, alpha, as follows: $\\lambda_{ij} = \\beta d_{ij}^\\alpha$. Here, $\\beta$ affects read depth, and is determined by the `nreads` argument. Note that alpha must be < 0, since there should be more counts between beads that are closer together.\n",
    "2. Counts ($c_{ij}$) are drawn from a Poisson distribution of $\\lambda_{ij}$\n",
    "\n",
    "Putting these steps together: $c_{ij} = \\mbox{Poisson} \\left( \\beta d_{ij}^\\alpha \\right)$\n",
    "\n",
    "Note: if you want to use the exact value of $\\lambda_{ij}$ for the counts, without the Poisson distribution (ie $c_{ij} = \\beta d_{ij}^\\alpha$), then set `distrib=\"none\"` during simulation. This will result in floating-point values for the counts instead of integers."
   ]
  },
  {
   "cell_type": "markdown",
   "id": "94b11e88-f290-4131-b5b5-e733d25dfc34",
   "metadata": {
    "tags": []
   },
   "source": [
    "### Documentation"
   ]
  },
  {
   "cell_type": "markdown",
   "id": "38cb2ad3-07a1-41fb-b2fc-0335a9a277d7",
   "metadata": {
    "tags": []
   },
   "source": [
    "Type `sim_spatial_rnaseq --help` for information on the various arguments.\n",
    "\n",
    "#### Files created by the simulation:\n",
    "- `struct_true.coords`\n",
    "    + The 2D simulated structure\n",
    "- `counts.matrix`\n",
    "    + Counts that were derived from the simulated structure.\n",
    "    + Counts are written in the \"hiclib\" format, and the best way to load them is with the `iced.io.load_counts` function.\n",
    "- `dataset_info.txt`\n",
    "    + Contains various info about the simulated structure... number of reads, simulation seed, alpha used in simulation, number of beads (see \"lengths\"), beta (which you'll want to input to inference, see below), etc.\n",
    "- `counts.bed`\n",
    "    + You can ignore this, it's for Hi-C data."
   ]
  },
  {
   "cell_type": "markdown",
   "id": "81f5ee77-7498-46b4-b252-02fcf18933c0",
   "metadata": {
    "jp-MarkdownHeadingCollapsed": true,
    "tags": []
   },
   "source": [
    "### Python API & plotting example"
   ]
  },
  {
   "cell_type": "code",
   "execution_count": null,
   "id": "936da3fd-9fbe-41fb-9fc0-d334f52d5405",
   "metadata": {},
   "outputs": [],
   "source": [
    "from pastis.simulation.spatial_rnaseq import sim_spatial_rnaseq\n",
    "from iced.io import load_counts\n",
    "import numpy as np\n",
    "import os\n",
    "from matplotlib import pyplot as plt\n",
    "import matplotlib as mpl\n",
    "from mpl_toolkits.axes_grid1 import make_axes_locatable\n",
    "\n",
    "\n",
    "# Simulate datasets\n",
    "outdir=\"../results/sim/sim.datasets.2d\"  # Edit me\n",
    "num_struct = 2  # Number of unique datasets to generate (starting with specified seed)\n",
    "seed = 0  # Random seed\n",
    "directories_created = sim_spatial_rnaseq(\n",
    "    nreads=1e5, nbeads=500, num_struct=num_struct, seed=seed, directory=outdir, alpha=-1,\n",
    "    circle_radius=5, overlap_dist=0.2, distrib='poisson', redo=False, verbose=True)\n",
    "\n",
    "# Plot\n",
    "seeds = np.arange(seed, seed + num_struct)\n",
    "for i in range(num_struct):\n",
    "    struct_true = np.loadtxt(os.path.join(\n",
    "        directories_created[i], \"struct_true.coords\"))\n",
    "    fig, ax = plt.subplots(1, 2, subplot_kw={'aspect': 'equal'})\n",
    "    ax[0].scatter(struct_true[:, 0], struct_true[:, 1], alpha=0.5, s=5)\n",
    "    fig.suptitle(f\"Simulation {seeds[i]:03d}\")\n",
    "    \n",
    "    counts = load_counts(os.path.join(\n",
    "        directories_created[i], \"counts.matrix\"), base=0).toarray()\n",
    "    counts += counts.T\n",
    "    norm = mpl.colors.SymLogNorm(1, vmin=0, vmax=counts.max(), base=np.e)\n",
    "    im = ax[1].matshow(\n",
    "        counts, norm=norm, origin=\"upper\", cmap='Blues',\n",
    "        extent=(0, counts.shape[1], counts.shape[0], 0))\n",
    "    divider = make_axes_locatable(ax[1])\n",
    "    cax = divider.append_axes('right', size='4.6%', pad=0.04)\n",
    "    myformat = mpl.ticker.FuncFormatter(lambda x, p: '{:.2g}'.format(x).replace(\n",
    "        '+0', '').replace('+', '').replace('0.0e0', '0'))\n",
    "    cbar = fig.colorbar(im, cax=cax, format=myformat)\n",
    "    cbar.locator = mpl.ticker.MaxNLocator(nbins=3)\n",
    "    cbar.update_ticks()"
   ]
  },
  {
   "cell_type": "markdown",
   "id": "b592181c-9390-4226-a1af-34aacd791b4f",
   "metadata": {
    "tags": []
   },
   "source": [
    "### Command-line API example"
   ]
  },
  {
   "cell_type": "code",
   "execution_count": null,
   "id": "1ab618b8-469c-468a-8dba-2015a8e3a86d",
   "metadata": {},
   "outputs": [],
   "source": [
    "%%bash\n",
    "\n",
    "outdir=\"../results/sim/sim.datasets.2d\"  # Edit me\n",
    "\n",
    "sim_spatial_rnaseq --nreads 1e5 --nbeads 500 --num_struct 1 --seed 0 \\\n",
    "--directory \"$outdir\" --alpha -1 --circle_radius 5 --overlap_dist 0.2 \\\n",
    "--distrib poisson --verbose"
   ]
  },
  {
   "cell_type": "markdown",
   "id": "99ba3046-fefe-4b9a-8b21-927ab3c3aea4",
   "metadata": {
    "jp-MarkdownHeadingCollapsed": true,
    "tags": []
   },
   "source": [
    "# Running 2D-PASTIS"
   ]
  },
  {
   "cell_type": "markdown",
   "id": "d2f09f32-99f4-4ebd-8d77-2c8659be8ab7",
   "metadata": {
    "jp-MarkdownHeadingCollapsed": true,
    "tags": []
   },
   "source": [
    "### Very brief overview of how PASTIS works\n",
    "\n",
    "<a id='how_pastis_works'></a>"
   ]
  },
  {
   "cell_type": "markdown",
   "id": "f2f0eb21-8502-4e52-9706-128598c8a59d",
   "metadata": {},
   "source": [
    "PASTIS models the counts between $i$ and $j$ as a random independent Poisson variable, where the intensity of the Poisson distribution is a decreasing function $f$ of the Euclidean distance between the two beads ($d_{ij}$). This function relates between counts and distances.\n",
    "\n",
    "PASTIS sets this function as follows: $f(d_{ij}) \\sim d_{ij}^\\alpha$, $\\alpha < 0$. The $\\alpha$ parameter can be set using prior knowledge (e.g., $\\alpha = -1$), or inferred jointly with the 3D structure.\n",
    "\n",
    "As PASTIS was originally designed to infer 3D chromatin structures from Hi-C data, this function was derived from the biophysical properties of DNA as a polymer. It's possible a different function would be more suitable for relating between counts and distances in spatial transcriptomics data. However, I assume that there is an inverse relationship between counts and distances in this data as well, so $d_{ij}^\\alpha$ is probably a decent starting point, especially when alpha is inferred.\n",
    "\n",
    "\n",
    "Inference is performed by maximizing the likelihood of the following Poisson model:\n",
    "\n",
    "$$c_{ij} \\sim \\mbox{Poisson}\\left( \\beta d_{ij}^{\\alpha} \\right)$$\n",
    "where $\\beta$ is a scaling parameter that determines the size of the structure, relative to the read depth of the counts matrix (you don't need to worry about beta unless you're inferring structures from my simulated data, see below).\n",
    "\n",
    "Please refer to [the original 2014 PASTIS paper](https://academic.oup.com/bioinformatics/article/30/12/i26/385087) for more details."
   ]
  },
  {
   "cell_type": "markdown",
   "id": "560710f7-e255-429a-9655-a546f288ce94",
   "metadata": {
    "jp-MarkdownHeadingCollapsed": true,
    "tags": []
   },
   "source": [
    "### Documentation"
   ]
  },
  {
   "cell_type": "markdown",
   "id": "f6c21bbd-f308-4350-b990-16b2934ed17c",
   "metadata": {
    "tags": []
   },
   "source": [
    "You can quickly pull up the arguments via `pastis-poisson --help`, but I copied them below for convenience and to add some extra notes.\n",
    "\n",
    "These arguments can be inputted into the `pastis.optimization.pastis_algorithms.pastis_poisson` python function or the `pastis-poisson` script on the command line.\n",
    "\n",
    "\n",
    "#### The important stuff:\n",
    "- `counts`: Counts data files in the hiclib format or as numpy ndarrays.\n",
    "- `lengths`: In your case, set this to the total number of beads.\n",
    "- `seed`: Random seed used when generating the starting point in the optimization.\n",
    "- `outdir`: Directory in which to save results.\n",
    "- `alpha`: Biophysical parameter of the transfer function used in converting counts to wish distances. If alpha is not specified, it will be inferred jointly alongside the structure via a coordinate descent approach (first inferring a structure with fixed alpha, then alpha with fixed structure, etc).\n",
    "    + I'd reccomend first inferring structures with a fixed alpha (to make sure it converges properly and nothing weird happens), then trying to infer alpha.\n",
    "\n",
    "\n",
    "#### When inferring alpha:\n",
    "- `alpha_init`: When inferring alpha, this is the initial value of alpha to use. (default = -1).\n",
    "- `max_alpha_loop`: When inferring alpha, this is the maximum number of cycles in which PASTIS will infer the alpha (with a fixed structure) and then the structure (with a fixed alpha). (default=20)\n",
    "\n",
    "\n",
    "#### Some options you can play around with if interested:\n",
    "- `init`: By default, the program first infers a structure via multi-dimensional scaling (MDS), then inputs that structure into the main inference step with the PASTIS loss function. You can skip the MDS step though, and go straight from the random initialization to inferring with the PASTIS loss function. To do so, use `init=\"random\"`.\n",
    "    + The MDS loss function minimizes the mean squared error between the inferred distances between beads $\\left( d_{ij} \\right)$ and what we expect the distances to be, based on the counts matrix $\\left( c_{ij}^{\\frac{1}{\\alpha}} \\right)$. Note that $\\alpha$ is not inferred during MDS (if a predetermined `alpha` is not set, `alpha_init` is used as the $\\alpha$ for MDS)\n",
    "- `exclude_zeros`: Sometimes some of the counts matrix bins contain zero counts. By default, these bins are still included in optimzation, and we've generally found that excluding them worsens results. However, it is possible to exclude the empty bins if you want to try it out yourself.\n",
    "\n",
    "\n",
    "#### Convergence criteria:\n",
    "You almost definitely won't have to touch these!\n",
    "- `max_iter`: Maximum number of iterations per optimization.\n",
    "    + In the highly unlikely event that you run into convergence due to exceeding the max number of iterations, you can increase this.\n",
    "- `factr`: factr for [scipy's L-BFGS-B](https://docs.scipy.org/doc/scipy/reference/generated/scipy.optimize.fmin_l_bfgs_b.html), alters convergence criteria\n",
    "- `pgtol`: pgtol for [scipy's L-BFGS-B](https://docs.scipy.org/doc/scipy/reference/generated/scipy.optimize.fmin_l_bfgs_b.html), alters convergence criteria\n",
    "- `alpha_factr`: factr for convergence criteria of joint alpha/structure inference\n",
    "\n",
    "\n",
    "#### When inferring my 2D simulated data:\n",
    "- `beta`: Scaling parameter that determines the size of the structure, relative to the read depth of the counts matrix. If None, an arbitrary beta will be chosen.\n",
    "    + Beta is meaningless when inferring structures from real experimental data because the size of the final structure is all relative anyways.\n",
    "    + However, when inferring structures from my 2D simulated data, setting beta allows you to infer structures that are exactly the same size as the simulated structure, which makes it easier to compare between the simulated and inferred structures when analyzing results.\n",
    "   \n",
    "#### Files created by the inference:\n",
    "- `struct_inferred.*.coords`\n",
    "    + The final 2D inferred structure for the given random seed\n",
    "- `history.*`\n",
    "    + Information collected during the optimization process (ie iteration, current time, current value of the objective, etc)\n",
    "- `inference_variables.*`\n",
    "    + Information collected at the end of optimization, including final objective, final value of alpha, and whether the inference converged. "
   ]
  },
  {
   "cell_type": "markdown",
   "id": "ff322a54-2191-4fb3-9016-003e425c77df",
   "metadata": {
    "jp-MarkdownHeadingCollapsed": true,
    "tags": []
   },
   "source": [
    "### Command-line API examples"
   ]
  },
  {
   "cell_type": "markdown",
   "id": "653a468a-a4b0-4eac-a7f1-4d54aa6b1d12",
   "metadata": {
    "jp-MarkdownHeadingCollapsed": true,
    "tags": []
   },
   "source": [
    "#### Ex 1: Inferring with predetermined alpha = -1\n",
    "This is the same as the true alpha used in simulation"
   ]
  },
  {
   "cell_type": "code",
   "execution_count": null,
   "id": "d983f9d2-1e92-4c40-b5c4-91c3581e4459",
   "metadata": {},
   "outputs": [],
   "source": [
    "%%bash\n",
    "\n",
    "counts_dir=\"../results/sim/sim.datasets.2d/sim_spatial_rnaseq.nbeads500_alpha-1_circle5_overlap0.2_poisson_nreads100000/000\"  # Edit me\n",
    "infer_dir=\"$counts_dir/infer.alpha-1\"\n",
    "seed=0\n",
    "\n",
    "pastis-poisson --counts \"$counts_dir/counts.matrix\" --lengths 500 --seed \"$seed\" --outdir \"$infer_dir\" \\\n",
    "--alpha -1 --beta $(awk -F \"\\t\" '$1 == \"beta\" {print $2}'  \"$counts_dir/dataset_info.txt\")"
   ]
  },
  {
   "cell_type": "markdown",
   "id": "efa55a01-364a-4996-890f-6234a0459607",
   "metadata": {
    "jp-MarkdownHeadingCollapsed": true,
    "tags": []
   },
   "source": [
    "#### Ex 2: Inferring with predetermined alpha = -2\n",
    "The true alpha is -1, so we are now inferring with an incorrect alpha"
   ]
  },
  {
   "cell_type": "code",
   "execution_count": null,
   "id": "bd4d03d5-2b6c-4824-866e-2d9b14325612",
   "metadata": {},
   "outputs": [],
   "source": [
    "%%bash\n",
    "\n",
    "counts_dir=\"../results/sim/sim.datasets.2d/sim_spatial_rnaseq.nbeads500_alpha-1_circle5_overlap0.2_poisson_nreads100000/000\"  # Edit me\n",
    "infer_dir=\"$counts_dir/infer.alpha-2\"\n",
    "seed=0\n",
    "\n",
    "pastis-poisson --counts \"$counts_dir/counts.matrix\" --lengths 500 --seed \"$seed\" --outdir \"$infer_dir\" \\\n",
    "--alpha -2 --beta $(awk -F \"\\t\" '$1 == \"beta\" {print $2}'  \"$counts_dir/dataset_info.txt\")"
   ]
  },
  {
   "cell_type": "markdown",
   "id": "c99b4448-167f-452e-8a0b-9fb822d43ed6",
   "metadata": {
    "jp-MarkdownHeadingCollapsed": true,
    "tags": []
   },
   "source": [
    "#### Ex 3: Inferring alpha jointly alongside the structure\n",
    "Using an initial guess of -2 for alpha"
   ]
  },
  {
   "cell_type": "code",
   "execution_count": null,
   "id": "00eb5c1b-2a2b-4423-a74d-0bbf7fc3315d",
   "metadata": {},
   "outputs": [],
   "source": [
    "%%bash\n",
    "\n",
    "counts_dir=\"../results/sim/sim.datasets.2d/sim_spatial_rnaseq.nbeads500_alpha-1_circle5_overlap0.2_poisson_nreads100000/000\"  # Edit me\n",
    "infer_dir=\"$counts_dir/infer.alpha_init-2\"\n",
    "seed=0\n",
    "\n",
    "pastis-poisson --counts \"$counts_dir/counts.matrix\" --lengths 500 --seed \"$seed\" --outdir \"$infer_dir\" \\\n",
    "--alpha_init -2 --beta $(awk -F \"\\t\" '$1 == \"beta\" {print $2}'  \"$counts_dir/dataset_info.txt\")"
   ]
  },
  {
   "cell_type": "markdown",
   "id": "4d93cc22-f15a-4edb-96ee-10a461c501e8",
   "metadata": {
    "jp-MarkdownHeadingCollapsed": true,
    "tags": []
   },
   "source": [
    "# Analyzing results"
   ]
  },
  {
   "cell_type": "markdown",
   "id": "a892ecc1-526f-401d-9170-06a98eeac3e5",
   "metadata": {
    "jp-MarkdownHeadingCollapsed": true,
    "tags": []
   },
   "source": [
    "## To rescale or not to rescale?"
   ]
  },
  {
   "cell_type": "markdown",
   "id": "751cd893-9368-45ac-a627-ea89d62a4ddd",
   "metadata": {},
   "source": [
    "If the inferred structure is not the same size as the true structure, it is generally best to optimally rescale the inferred structure such that it matches the true structure. (Rescaling is done by minimizing the differences between the true & inferred structures, [see below](#error_scores)).\n",
    "\n",
    "Your inferred structure will be *not* be the same size of the true structure in the following two cases:\n",
    "\n",
    "- When structures are inferred without `beta` beting set to the true value of beta from the simulation.\n",
    "- When simulated counts are derived from the simulated true structure via a method different from what I've described above, such that there is not \"true value of beta\"."
   ]
  },
  {
   "cell_type": "markdown",
   "id": "80c459b0-f05d-45f1-b6cb-b1c1892e4326",
   "metadata": {
    "jp-MarkdownHeadingCollapsed": true,
    "tags": []
   },
   "source": [
    "## Quantifying accuracy"
   ]
  },
  {
   "cell_type": "markdown",
   "id": "c8ae6a38-b6d6-4c0a-b67f-771a6240ecfe",
   "metadata": {
    "jp-MarkdownHeadingCollapsed": true,
    "tags": []
   },
   "source": [
    "### Our structure similarity scores\n",
    "\n",
    "<a id='error_scores'></a>"
   ]
  },
  {
   "cell_type": "markdown",
   "id": "5e12a7b0-baa3-4db4-9952-e4922b4d6740",
   "metadata": {},
   "source": [
    "#### RMSD\n",
    "Root mean square deviation (RMSD) is a common way of comparing the coordinates of two structures: $\\mathbf{X}$, $\\mathbf{X}' \\in R^{2 \\times m}$. RMSD is defined as\n",
    "$$RMSD = \\min_{X^{*}} \\sqrt{\\frac{\\sum_{i} (\\mathbf{X}_i -\\mathbf{X}_i^{*})^{2}}{m}}\\,\\,,$$\n",
    "where  $\\mathbf{X}^{*}$ is obtained by optimally translating, rotating, and rescaling $\\mathbf{X}'$ (the rescaling is optional, as discussed above).\n",
    "\n",
    "\n",
    "#### Distance Error\n",
    "Distance Error is the root mean squared error of the distance matrices. It assigns more weight to long distances than RMSD. It is defined as\n",
    "$$distError = \\min_{X^{*}} \\sqrt{\\frac{\\sum_{i, j} (d_{ij}(\\mathbf{X}) - d_{ij}(\\mathbf{X}^{*}))^{2}}{m}},$$\n",
    "where structure $\\mathbf{X}^{*}$ is obtained by optimally rescaling $\\mathbf{X}'$ (the rescaling is optional, as discussed above).\n",
    "\n",
    "\n",
    "#### What do these scores mean?\n",
    "For both RMSD and Distance Error, lower scores = higher similarity between structures = more accurate inference. \n",
    "\n",
    "These error scores are most useful in comparing between inference approaches. Unfortunately, they don't tell you how low of a score is \"good enough\"."
   ]
  },
  {
   "cell_type": "markdown",
   "id": "934e003b-63e6-4a57-99a2-25f5ecbec374",
   "metadata": {
    "jp-MarkdownHeadingCollapsed": true,
    "tags": []
   },
   "source": [
    "### Documentation"
   ]
  },
  {
   "cell_type": "markdown",
   "id": "87ea6b06-8d64-4371-9594-106a95881afe",
   "metadata": {},
   "source": [
    "Type `get_error_scores --help` for information on the various arguments.\n",
    "\n",
    "Note that you can input multiple inferred structures at once, as long as they all correspond to the same true structure (ie if inferring multiple times from the same dataset, using different random seeds).\n",
    "\n",
    "In general, when comparing between inference approaches, I like to run inference on 10-20 separate datasets, and for each dataset I infer with 5 different random seeds. This leads to a more robust comparison.\n",
    "\n",
    "(Note that the `struct_null` option is currently not relevant to you, since you don't have any constraints -- just the Poisson objective.)\n",
    "\n",
    "If you prefer a python API, use the `pastis.validation.error_scores.get_error_scores` function."
   ]
  },
  {
   "cell_type": "markdown",
   "id": "4bba318a-9aec-400c-b3a8-c7de3ffaf2bd",
   "metadata": {
    "jp-MarkdownHeadingCollapsed": true,
    "tags": []
   },
   "source": [
    "### Command-line API example:"
   ]
  },
  {
   "cell_type": "code",
   "execution_count": null,
   "id": "de7094df-21b2-4cad-89f7-c2b06507da97",
   "metadata": {
    "tags": []
   },
   "outputs": [],
   "source": [
    "%%bash\n",
    "\n",
    "counts_dir=\"../results/sim/sim.datasets.2d/sim_spatial_rnaseq.nbeads500_alpha-1_circle5_overlap0.2_poisson_nreads100000/000\"  # Edit me\n",
    "seed=0\n",
    "\n",
    "infer_dir_ex1=\"$counts_dir/infer.alpha-1\"\n",
    "infer_dir_ex2=\"$counts_dir/infer.alpha-2\"\n",
    "infer_dir_ex3=\"$counts_dir/infer.alpha_init-2\"\n",
    "\n",
    "echo \"==== Predetermined alpha = -1 ====\"\n",
    "get_error_scores --true \"$counts_dir/struct_true.coords\" \\\n",
    "--infer \"$infer_dir_ex1/struct_inferred.00$seed.coords\" --verbose\n",
    "\n",
    "echo -e \"\\n\\n==== Predetermined alpha = -2 ====\"\n",
    "get_error_scores --true \"$counts_dir/struct_true.coords\" \\\n",
    "--infer \"$infer_dir_ex2/struct_inferred.00$seed.coords\" --verbose\n",
    "\n",
    "echo -e \"\\n\\n==== Alpha inferred jointly alongside structure ====\"\n",
    "get_error_scores --true \"$counts_dir/struct_true.coords\" \\\n",
    "--infer \"$infer_dir_ex3/struct_inferred.00$seed.coords\" --verbose"
   ]
  },
  {
   "cell_type": "markdown",
   "id": "31aaef37-4414-45ad-842b-8015bb3b75f9",
   "metadata": {
    "jp-MarkdownHeadingCollapsed": true,
    "tags": []
   },
   "source": [
    "## Visualization"
   ]
  },
  {
   "cell_type": "markdown",
   "id": "4ceecd36-335d-452c-b7eb-cc6754095dd7",
   "metadata": {},
   "source": [
    "Sometimes it can also be helpful to visually compare the true and inferred structure."
   ]
  },
  {
   "cell_type": "markdown",
   "id": "5eb92345-c7eb-40c0-b381-111f458368a1",
   "metadata": {
    "tags": []
   },
   "source": [
    "### Example: visualizing inference results in python"
   ]
  },
  {
   "cell_type": "code",
   "execution_count": null,
   "id": "21ac127d-d773-4f57-a65a-eeae21244777",
   "metadata": {},
   "outputs": [],
   "source": [
    "from pastis.validation._realignment import realign_structures\n",
    "import numpy as np\n",
    "import os\n",
    "from matplotlib import pyplot as plt\n",
    "import os\n",
    "import math\n",
    "import colorsys\n",
    "\n",
    "\n",
    "def get_colors(struct_true):\n",
    "    x = struct_true[:, 0]\n",
    "    y = struct_true[:, 1]\n",
    "    r = np.sqrt(x ** 2 + y ** 2)\n",
    "    theta = np.arctan2(y, x) + np.pi\n",
    "    tmp2 = r / r.max()\n",
    "    tmp1 = theta / 2 / np.pi\n",
    "    colors = np.array([\n",
    "        colorsys.hsv_to_rgb(h=tmp1[i], s=1, v=tmp2[i]) for i in range(x.size)])\n",
    "    return colors\n",
    "\n",
    "\n",
    "def compare_structure(counts_dir, infer_dir, seed, rescale=False, title=None):\n",
    "    struct_true = np.loadtxt(os.path.join(counts_dir, \"struct_true.coords\"))[:, :2]\n",
    "    struct_infer = np.loadtxt(os.path.join(infer_dir, f\"struct_inferred.{seed:03d}.coords\"))[:, :2]\n",
    "\n",
    "    colors = get_colors(struct_true)\n",
    "\n",
    "    # Realign inferred structure to match orientation of true structure\n",
    "    struct_infer_realign, rmsd = realign_structures(\n",
    "        X=struct_infer, Y=struct_true, rescale_X_to_Y=rescale, error_type='rmsd')\n",
    "\n",
    "    plt.figure(figsize=(10, 10))\n",
    "    plt.scatter(struct_true[:, 0], struct_true[:, 1], s=40, c=colors, alpha=0.5, label=\"True\")\n",
    "    plt.scatter(struct_infer_realign[:, 0], struct_infer_realign[:, 1], s=40, c=colors, alpha=0.5, marker='s', label=\"Inferred\")\n",
    "    for i in range(struct_true.shape[0]):\n",
    "        plt.plot([struct_true[i, 0], struct_infer_realign[i, 0]], [struct_true[i, 1], struct_infer_realign[i, 1]], alpha=0.4, marker=None, c='black')\n",
    "    _ = plt.legend()\n",
    "    if title is None:\n",
    "        title = f'RMSD = {rmsd:.3g}'\n",
    "    else:\n",
    "        title = f'{title}\\nRMSD = {rmsd:.3g}'\n",
    "    plt.title(title)\n",
    "\n",
    "\n",
    "counts_dir = \"../results/sim/sim.datasets.2d/sim_spatial_rnaseq.nbeads500_alpha-1_circle5_overlap0.2_poisson_nreads100000/000\"  # Edit me\n",
    "infer_dir_ex1 = os.path.join(counts_dir, \"infer.alpha-1\")\n",
    "infer_dir_ex2 = os.path.join(counts_dir, \"infer.alpha-2\")\n",
    "infer_dir_ex3 = os.path.join(counts_dir, \"infer.alpha_init-2\")\n",
    "seed = 0\n",
    "\n",
    "compare_structure(\n",
    "    counts_dir=counts_dir, infer_dir=infer_dir_ex1, seed=seed, rescale=False,\n",
    "    title=\"True alpha = -1\\nInferred with alpha = -1\")\n",
    "\n",
    "compare_structure(\n",
    "    counts_dir=counts_dir, infer_dir=infer_dir_ex2, seed=seed, rescale=False,\n",
    "    title=\"True alpha = -1\\nInferred with alpha = -2\")\n",
    "\n",
    "compare_structure(\n",
    "    counts_dir=counts_dir, infer_dir=infer_dir_ex3, seed=seed, rescale=False,\n",
    "    title=\"True alpha = -1\\nInferring alpha (initial guess = -2)\")"
   ]
  }
 ],
 "metadata": {
  "kernelspec": {
   "display_name": "Python 3 (ipykernel)",
   "language": "python",
   "name": "python3"
  },
  "language_info": {
   "codemirror_mode": {
    "name": "ipython",
    "version": 3
   },
   "file_extension": ".py",
   "mimetype": "text/x-python",
   "name": "python",
   "nbconvert_exporter": "python",
   "pygments_lexer": "ipython3",
   "version": "3.9.11"
  }
 },
 "nbformat": 4,
 "nbformat_minor": 5
}
